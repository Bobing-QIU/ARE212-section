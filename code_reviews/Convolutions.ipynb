{
 "cells": [
  {
   "cell_type": "markdown",
   "id": "a4e2accc",
   "metadata": {},
   "source": [
    "# Convolutions\n",
    "\n",
    "This notebook walks through part of the subsection \"Convolution Continuous and Discrete Random variables\" in the [random_variables0.ipynb](https://github.com/ligonteaching/ARE212_Materials/blob/master/random_variables0.ipynb) notebook. The goal of this section is to create a new random variable that is the sum of a continuous random variable $X$ and a discrete random variable $S$ so that:\n",
    "\n",
    "$Y = X+S$\n",
    "\n",
    "To do this, we will create a new class that _inherits_ from an already existing class: ``iid.rv_continuous``. So, what is inheritance?\n",
    "\n",
    "## Inheritance\n",
    "\n",
    "Inheritance is when we define a class that inherits all the methods and properties from another class. The class being inherited from (in this case, ``iid.rv_continuous``), is called the _parent_ or _base_ class. The class that inherits is the _child_ or _derived_ class.\n",
    "\n",
    "For example, suppose we had a class called ``Student``, that like in our past class, has attributes like ``Student.grades`` and ``Student.studentID``, and methods such as ``Student.calculateGPA()``. But we also might want to be more specific about what kind of student we are talking about. So we could create a child class called ``GraduateStudent`` that inherits all these attributes and methods from ``Student``, but also adds some like ``GraduateStudent.dissertationChair`` or ``GraduateStudent.fields``.\n",
    "\n",
    "This is the beauty of inheritance; instead of programming grades attributes for all sorts of student types, we just inherit this structure for all subtypes. \n",
    "\n",
    "**This is what Ethan is doing in his convolution class: he knows the convolution will be continuous, so he inherits the structure from the ``iid.rv_continuous`` class, and makes some modifications to make the class convolution-specific.**"
   ]
  },
  {
   "cell_type": "markdown",
   "id": "9338e433",
   "metadata": {},
   "source": [
    "### Implementing inheritance\n",
    "\n",
    "**Step 1: Tell python who you want to inherit from**\n",
    "Telling python \"who\" (what class) you are inheriting from is straightforward: just make the class definition a function of the parent class! Ethan does this in this line:\n",
    "\n",
    "``class ConvolvedContinuousAndDiscrete(iid.rv_continuous):``\n",
    "\n",
    "**Step 2: Inheriting methods, attributes frm the parent**\n",
    "\n",
    "Our work isn't quite over though. Remember: the constructor makes the class. So we want to put a method in the constructor that instructs it to bring in all the methods and attributes from the parent class. This is done with the line:\n",
    "\n",
    "``super(ConvolvedContinuousAndDiscrete, self).__init__(name=\"ConvolvedContinuousAndDiscrete\")``\n",
    "\n",
    "Don't worry too much about the name part; he's just renaming the class and this could have been omitted. Let's play around with different iterations on this code to get a feel for what's going on:"
   ]
  },
  {
   "cell_type": "code",
   "execution_count": 12,
   "id": "eb8b14f1",
   "metadata": {},
   "outputs": [],
   "source": [
    "from scipy.stats import distributions as iid\n",
    "import numpy as np\n",
    "\n",
    "Omega = (-1,0,1)\n",
    "Pr = (1/3.,1/2.,1/6.)\n",
    "\n",
    "s = iid.rv_discrete(values=(Omega,Pr))\n",
    "x = iid.norm()"
   ]
  },
  {
   "cell_type": "code",
   "execution_count": 7,
   "id": "1979ed69",
   "metadata": {},
   "outputs": [
    {
     "name": "stdout",
     "output_type": "stream",
     "text": [
      "<scipy.stats._distn_infrastructure.rv_frozen object at 0x133e92700>\n",
      "<scipy.stats._distn_infrastructure.rv_sample object at 0x133e82ee0>\n",
      "-inf\n"
     ]
    }
   ],
   "source": [
    "class ConvolvedContinuousAndDiscrete(iid.rv_continuous):\n",
    "\n",
    "    \"\"\"Convolve (add) a continuous rv x and a discrete rv s,\n",
    "       returning the resulting cdf.\"\"\"\n",
    "    # note that the constructor is a fn of 2 inputs: \n",
    "    # we need to feed in Z and S, the RVs that will be added!\n",
    "    def __init__(self,f,s):  \n",
    "        self.continuous_rv = f\n",
    "        self.discrete_rv = s\n",
    "        super(ConvolvedContinuousAndDiscrete, self).__init__() # note: omitting name change\n",
    "        \n",
    "y = ConvolvedContinuousAndDiscrete(x, s)\n",
    "print(y.continuous_rv)\n",
    "print(y.discrete_rv)\n",
    "print(y.a)"
   ]
  },
  {
   "cell_type": "markdown",
   "id": "0e2c31bf",
   "metadata": {},
   "source": [
    "Whoa! Where did the attribute ``y.a`` come from?? It was inherited from ``iid.rv_continuous`` thanks to the ``super()`` constructor! Note that we need ``super()`` for this to work:"
   ]
  },
  {
   "cell_type": "code",
   "execution_count": 8,
   "id": "f171c2d5",
   "metadata": {},
   "outputs": [
    {
     "name": "stdout",
     "output_type": "stream",
     "text": [
      "<scipy.stats._distn_infrastructure.rv_frozen object at 0x133e92700>\n",
      "<scipy.stats._distn_infrastructure.rv_sample object at 0x133e82ee0>\n"
     ]
    },
    {
     "ename": "AttributeError",
     "evalue": "'ConvolvedContinuousAndDiscrete' object has no attribute 'a'",
     "output_type": "error",
     "traceback": [
      "\u001b[0;31m---------------------------------------------------------------------------\u001b[0m",
      "\u001b[0;31mAttributeError\u001b[0m                            Traceback (most recent call last)",
      "\u001b[0;32m/var/folders/34/qy7k45k96ts8zcmhtr3frydw0000gn/T/ipykernel_21288/2161955788.py\u001b[0m in \u001b[0;36m<module>\u001b[0;34m\u001b[0m\n\u001b[1;32m     13\u001b[0m \u001b[0mprint\u001b[0m\u001b[0;34m(\u001b[0m\u001b[0my\u001b[0m\u001b[0;34m.\u001b[0m\u001b[0mcontinuous_rv\u001b[0m\u001b[0;34m)\u001b[0m\u001b[0;34m\u001b[0m\u001b[0;34m\u001b[0m\u001b[0m\n\u001b[1;32m     14\u001b[0m \u001b[0mprint\u001b[0m\u001b[0;34m(\u001b[0m\u001b[0my\u001b[0m\u001b[0;34m.\u001b[0m\u001b[0mdiscrete_rv\u001b[0m\u001b[0;34m)\u001b[0m\u001b[0;34m\u001b[0m\u001b[0;34m\u001b[0m\u001b[0m\n\u001b[0;32m---> 15\u001b[0;31m \u001b[0mprint\u001b[0m\u001b[0;34m(\u001b[0m\u001b[0my\u001b[0m\u001b[0;34m.\u001b[0m\u001b[0ma\u001b[0m\u001b[0;34m)\u001b[0m\u001b[0;34m\u001b[0m\u001b[0;34m\u001b[0m\u001b[0m\n\u001b[0m",
      "\u001b[0;31mAttributeError\u001b[0m: 'ConvolvedContinuousAndDiscrete' object has no attribute 'a'"
     ]
    }
   ],
   "source": [
    "# Modification 1: No super() method\n",
    "class ConvolvedContinuousAndDiscrete(iid.rv_continuous):\n",
    "\n",
    "    \"\"\"Convolve (add) a continuous rv x and a discrete rv s,\n",
    "       returning the resulting cdf.\"\"\"\n",
    "    # note that the constructor is a fn of 2 inputs: \n",
    "    # we need to feed in Z and S, the RVs that will be added!\n",
    "    def __init__(self,f,s):  \n",
    "        self.continuous_rv = f\n",
    "        self.discrete_rv = s\n",
    "        \n",
    "y = ConvolvedContinuousAndDiscrete(x, s)\n",
    "print(y.continuous_rv)\n",
    "print(y.discrete_rv)\n",
    "print(y.a)"
   ]
  },
  {
   "cell_type": "markdown",
   "id": "0997e532",
   "metadata": {},
   "source": [
    "### Overwriting generic functions\n",
    "\n",
    "The ``iid.rv_continuous`` class has generic functions ``_pdf`` and ``_cdf`` that are meant to be overwritten by the child class. The underscore here is just a naming convention; it signals that the method is \"private\". This is not important. Here we want to overwrite the CDF. We know that:\n",
    "\n",
    "$$F(y) = \\sum_{s} F_X(y - s)P_S(s)$$\n",
    "\n",
    "That is, we are summing up the probabilities of $S = s$, times the probability that $X \\leq y - s$ ($\\Rightarrow X + s \\leq y$). So, the ingredients we need are:\n",
    "\n",
    "1. $F_X()$ The CDF of X evaluated at y. Since X is an instance of ``iid.continuous``, we know it has a ``cdf()`` method.\n",
    "2. $\\{P_S(s)\\} s = 1,\\ldots, K$ The probabilities of each mass point in the support of S. Since S is  we know if has an attribute ``pk``. \n",
    "3. $\\{s\\} s = 1,\\ldots, K$ The values S takes on. Again, as an instance of ``iid.discrete``, S has the attribute ``xk``, the different values for which S has positive probability.\n",
    "\n",
    "With these elements, we will loop over the elements of $S$, adding each new calculation to the one before it:"
   ]
  },
  {
   "cell_type": "code",
   "execution_count": 11,
   "id": "79ba8a51",
   "metadata": {},
   "outputs": [
    {
     "name": "stdout",
     "output_type": "stream",
     "text": [
      "0.9617324256934575\n"
     ]
    }
   ],
   "source": [
    "# Modification 1: No super() method\n",
    "class ConvolvedContinuousAndDiscrete(iid.rv_continuous):\n",
    "\n",
    "    \"\"\"Convolve (add) a continuous rv x and a discrete rv s,\n",
    "       returning the resulting cdf.\"\"\"\n",
    "    # note that the constructor is a fn of 2 inputs: \n",
    "    # we need to feed in Z and S, the RVs that will be added!\n",
    "    def __init__(self,f,s):  \n",
    "        self.continuous_rv = f\n",
    "        self.discrete_rv = s\n",
    "        super(ConvolvedContinuousAndDiscrete, self).__init__() # note: omitting name change\n",
    "        \n",
    "    def _cdf(self,z):\n",
    "        F=0\n",
    "        s = self.discrete_rv\n",
    "        x = self.continuous_rv\n",
    "        # loop over values of S\n",
    "        for k in range(len(s.xk)):\n",
    "            F = F + x.cdf(z-s.xk[k])*s.pk[k] \n",
    "            # each time, add CDF to former value (started at 0 above)\n",
    "            # F_X(y-s)P_S(s)\n",
    "        return F\n",
    "    \n",
    "y = ConvolvedContinuousAndDiscrete(x, s)\n",
    "print(y.cdf(2))"
   ]
  },
  {
   "cell_type": "code",
   "execution_count": 19,
   "id": "9bb010f6",
   "metadata": {},
   "outputs": [
    {
     "name": "stdout",
     "output_type": "stream",
     "text": [
      "0.9617324256934575\n",
      "0.9617324256934575\n",
      "0.9617324256934575\n"
     ]
    }
   ],
   "source": [
    "# Modification 2: an alternative implementation of the CDF method\n",
    "class ConvolvedContinuousAndDiscrete(iid.rv_continuous):\n",
    "\n",
    "    \"\"\"Convolve (add) a continuous rv x and a discrete rv s,\n",
    "       returning the resulting cdf.\"\"\"\n",
    "    # note that the constructor is a fn of 2 inputs: \n",
    "    # we need to feed in Z and S, the RVs that will be added!\n",
    "    def __init__(self,f,s):  \n",
    "        self.continuous_rv = f\n",
    "        self.discrete_rv = s\n",
    "        super(ConvolvedContinuousAndDiscrete, self).__init__() # note: omitting name change\n",
    "        \n",
    "    def _cdf(self,z):\n",
    "        F=0\n",
    "        s = self.discrete_rv\n",
    "        x = self.continuous_rv\n",
    "        # loop over values of S\n",
    "        for k in range(len(s.xk)):\n",
    "            F = F + x.cdf(z-s.xk[k])*s.pk[k] \n",
    "            # each time, add CDF to former value (started at 0 above)\n",
    "            # F_X(y-s)P_S(s)\n",
    "        return F     \n",
    "    \n",
    "    def cdf1(self,z):\n",
    "        s = self.discrete_rv\n",
    "        x = self.continuous_rv\n",
    "        # loop over values of S\n",
    "        return np.sum([x.cdf(z-s.xk[k])*s.pk[k] for k in range(len(s.xk))])\n",
    "    \n",
    "    def cdf2(self,z):\n",
    "        F=0\n",
    "        s = self.discrete_rv\n",
    "        x = self.continuous_rv\n",
    "        \n",
    "        for sval, p in zip(s.xk, s.pk):\n",
    "            F = F + x.cdf(z - sval)*p\n",
    "        return F\n",
    "\n",
    "y = ConvolvedContinuousAndDiscrete(x, s)\n",
    "print(y.cdf(2))\n",
    "print(y.cdf1(2))\n",
    "print(y.cdf2(2))"
   ]
  }
 ],
 "metadata": {
  "kernelspec": {
   "display_name": "Python 3 (ipykernel)",
   "language": "python",
   "name": "python3"
  },
  "language_info": {
   "codemirror_mode": {
    "name": "ipython",
    "version": 3
   },
   "file_extension": ".py",
   "mimetype": "text/x-python",
   "name": "python",
   "nbconvert_exporter": "python",
   "pygments_lexer": "ipython3",
   "version": "3.9.4"
  }
 },
 "nbformat": 4,
 "nbformat_minor": 5
}
