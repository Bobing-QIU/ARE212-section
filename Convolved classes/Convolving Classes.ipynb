{
 "cells": [
  {
   "cell_type": "markdown",
   "id": "d260c735",
   "metadata": {},
   "source": [
    "# Convolving Classes\n",
    "\n",
    "In this notebook, we will continue to explore classes by starting the creation of a ``ConvolvedDiscreteAndDiscrete`` class, per problem set 1. A reminder on what classes are-- classes are python _objects_ that organize information (**attributes**) and operations (**methods**). Classes exist in the abstract, and then are given particular values upon **instantiation**. Classes pop up all over the place in python programming; whether or not you write them yourself, you will not avoid using them through the packages you know and love like ``numpy`` or ``scikit-learn``. Let's remember the anatomy of a python class by taking a look at the ``ConvolvedContinuousAndDiscrete`` class that Ethan created in class."
   ]
  },
  {
   "cell_type": "code",
   "execution_count": null,
   "id": "f27312e7",
   "metadata": {},
   "outputs": [],
   "source": [
    "# first, some package imports\n",
    "from scipy.stats import distributions as iid"
   ]
  },
  {
   "cell_type": "code",
   "execution_count": null,
   "id": "2a9ddb5f",
   "metadata": {},
   "outputs": [],
   "source": [
    "# Reproduction of Ethan's class\n",
    "class ConvolvedContinuousAndDiscrete(iid.rv_continuous):\n",
    "    \"\"\"Convolve (add) a continuous rv x and a discrete rv s,\n",
    "       returning the resulting cdf.\"\"\"\n",
    "\n",
    "    def __init__(self,f,s):\n",
    "        self.continuous_rv = f\n",
    "        self.discrete_rv = s\n",
    "        super(ConvolvedContinuousAndDiscrete, self).__init__(name=\"ConvolvedContinuousAndDiscrete\")\n",
    "        \n",
    "    def _cdf(self,z):\n",
    "        F=0\n",
    "        s = self.discrete_rv\n",
    "        x = self.continuous_rv\n",
    "        \n",
    "        for k in range(len(s.xk)):\n",
    "            F = F + x.cdf(z-s.xk[k])*s.pk[k]\n",
    "        return F\n",
    "\n",
    "    def _pdf(self,z):\n",
    "        f=0\n",
    "        s = self.discrete_rv\n",
    "        x = self.continuous_rv\n",
    "        \n",
    "        for k in range(len(s.xk)):\n",
    "            f = f + x.pdf(z-s.xk[k])*s.pk[k]\n",
    "        return f\n"
   ]
  },
  {
   "cell_type": "markdown",
   "id": "27adc224",
   "metadata": {},
   "source": [
    "## Class anatomy 1: Inheritance\n",
    "\n",
    "Why is the class definition a function of ``iid.rv_coninuous``, and what's that line that starts with ``super()`` in the constructor?\n",
    "\n",
    "This class is doing something rather advanced in Object-Oriented Programming (OOP) which is called **inheritance**. Inheritance is when a class takes methods and attributes from a  \"parent\" class and builds on them. For example, we could conceive of a ``Vehicles()`` class with attributes like horsepower or gas mileage, and then a ``Truck()`` class that inherits these methods from ``Vehicles()``, then adds more information like the volume of the truckbed. We won't worry too much about inheritance here since it is a fairly advanced technique, but I want to show you what it's good for. Let's try something..."
   ]
  },
  {
   "cell_type": "code",
   "execution_count": null,
   "id": "d14a1b2c",
   "metadata": {},
   "outputs": [],
   "source": [
    "# First, create a continuous and a discrete distribution to feed into the class\n",
    "Omega = (-1,0,1)\n",
    "Pr = (1/3.,1/2.,1/6.)\n",
    "\n",
    "my_discrete_distrib = iid.rv_discrete(values=(Omega,Pr))\n",
    "my_continuous_distrib = iid.norm()"
   ]
  },
  {
   "cell_type": "code",
   "execution_count": null,
   "id": "43662477",
   "metadata": {},
   "outputs": [],
   "source": [
    "# instantiate the class\n",
    "my_convolution = ConvolvedContinuousAndDiscrete(my_continuous_distrib, my_discrete_distrib)\n",
    "# call a method: median\n",
    "my_convolution.median()"
   ]
  },
  {
   "cell_type": "markdown",
   "id": "b6c737ae",
   "metadata": {},
   "source": [
    "Whaaat? How was I able to call the ``median()`` method?? I was able to because of inheritance! ``median()`` is a method of ``iid.rv_continuous``, and since this class inherits all the methods from that class, I can use them here too! Now let's get back to the stuff we are more familiar with.\n",
    "\n",
    "## Class anatomy 2: Attributes\n",
    "Test your knowledge:\n",
    "- How many attributes does this class have (not counting inherited attributes)? What are they? \n",
    "\n",
    "What data type is the ``continuous_rv`` attribute of ``my_convolution``? In the next cell, print the median of the continuous random variable used to instantiate ``my_convolution``."
   ]
  },
  {
   "cell_type": "code",
   "execution_count": null,
   "id": "49f663df",
   "metadata": {},
   "outputs": [],
   "source": []
  },
  {
   "cell_type": "code",
   "execution_count": null,
   "id": "335b83e8",
   "metadata": {},
   "outputs": [],
   "source": []
  },
  {
   "cell_type": "markdown",
   "id": "4cd5cb59",
   "metadata": {},
   "source": [
    "## Class anatomy 3: Methods\n",
    "Remember, methods are functions that belong to a class. \n",
    "- How many methods does this class have (again, ignore any inherited methods)?\n",
    "\n",
    "In the next cell, print the CDF of ``my_convolution`` at ``x = 2``"
   ]
  },
  {
   "cell_type": "code",
   "execution_count": null,
   "id": "6200522c",
   "metadata": {},
   "outputs": [],
   "source": []
  },
  {
   "cell_type": "markdown",
   "id": "bdb7e4f3",
   "metadata": {},
   "source": [
    "## Under a microscope: What is this class doing?\n",
    "Let's look closer at the ``cdf`` method of this new class. What is it doing? First, we need some math. Let $G()$ be the CDF function of the continuous variable, and let $P(x_n)$ be the probability of a term $x_n$ in the discrete distribution. Then the CDF of a convolution of two variables is given by:\n",
    "\n",
    "$$F(z) = \\sum_{n} P(x_n)G(z-x_n)$$\n",
    "\n",
    "The intuition is the following:\n",
    "\n",
    "Suppose you are drawing random numbers from the discrete distribution, and then given that you draw another one from the continuous distribution and add them. Conditional on a draw $x_n$ from the discrete distribution, the probability that your sum is $\\leq$ z is the cumulative probaility that you draw a number $\\leq z-x_n$ from $G()$. Adding these conditional probabilities up, each multiplied by the probability that you chose $x_n$, $x_j$, $x_i$, etc, is the cumulative probability.\n",
    "\n",
    "So in code, what elements do we need to implement this formula?\n",
    "1. The function $G()$ - we will access this through the iid.rv_continuous.cdf() method\n",
    "2. The probabilities at each $x_n$ of the discrete distribution - we will access these through an attribute of the iid.rv_discrete() class\n",
    "3. The points $x_n$ of the discrete distribution - we will access these through an attribute of the iid.rv_discrete() class\n",
    "\n",
    "Let's see how to access these:"
   ]
  },
  {
   "cell_type": "code",
   "execution_count": null,
   "id": "5e84aa60",
   "metadata": {},
   "outputs": [],
   "source": [
    "# The CDF method from our continuous variable calculated at 0\n",
    "my_continuous_distrib.cdf(0)"
   ]
  },
  {
   "cell_type": "code",
   "execution_count": null,
   "id": "f1005472",
   "metadata": {},
   "outputs": [],
   "source": [
    "# The support of the discrete distribution\n",
    "my_discrete_distrib.xk"
   ]
  },
  {
   "cell_type": "code",
   "execution_count": null,
   "id": "537dc000",
   "metadata": {},
   "outputs": [],
   "source": [
    "# the probabilities of each point in the support\n",
    "my_discrete_distrib.pk"
   ]
  },
  {
   "cell_type": "markdown",
   "id": "0bdf8226",
   "metadata": {},
   "source": [
    "Now that we have these elements, let's see how Ethan implements this:"
   ]
  },
  {
   "cell_type": "code",
   "execution_count": null,
   "id": "3800ed72",
   "metadata": {},
   "outputs": [],
   "source": [
    "def _cdf(self,z):\n",
    "    # Start at 0\n",
    "    F=0\n",
    "    # Grab our random variables via self.\n",
    "    s = self.discrete_rv\n",
    "    x = self.continuous_rv\n",
    "    \n",
    "    # for each k = 0, 1, 2, ... to the end of the x.sk vector\n",
    "    for k in range(len(s.xk)):\n",
    "        # (starting at 0...) iteratively add P(x_n)*CDF(z-x_n)\n",
    "        F = F + x.cdf(z-s.xk[k])*s.pk[k]\n",
    "    return F"
   ]
  },
  {
   "cell_type": "markdown",
   "id": "09e7c147",
   "metadata": {},
   "source": [
    "## Now moving towards a ConvolvedDiscreteAndDiscrete\n",
    "To create this class, let's start by copying the shell of Ethan's class. First, we need to think about instantiation.\n",
    "1. What inputs should we require to this class upon instantiation?\n",
    "2. What kind of class should we inherit from?\n",
    "3. What attributes will we want to define?"
   ]
  },
  {
   "cell_type": "code",
   "execution_count": null,
   "id": "9846404e",
   "metadata": {},
   "outputs": [],
   "source": [
    "class ConvolvedDiscreteAndDiscrete(): # no inherited type yet!\n",
    "    \"\"\"Convolve (add) a discrete rv x and a discrete rv s,\n",
    "       returning the resulting cdf.\"\"\"\n",
    "\n",
    "    def __init__(self): # no inputs yet!\n",
    "        print(\"No constructor yet!\")\n",
    "        \n",
    "    def _cdf(self,z):\n",
    "        print(\"No cdf yet!\")\n",
    "\n",
    "    def _pdf(self,z):\n",
    "        print(\"No pdf yet!\")\n"
   ]
  },
  {
   "cell_type": "markdown",
   "id": "d1f4b72f",
   "metadata": {},
   "source": [
    "## The PMF function\n",
    "\n",
    "Discrete random variables have pmf, or probability mass functions- this is the probability that $Z = Y + X$ is $= z$? Again, some intution. Let's say you drew a value $x_n$ from the $X$ distribution. Conditional on this draw, the probaility that you draw a $y$ from $Y$ such that $x+y\\leq z$ is:\n",
    "\n",
    "$$P(x+y = z | x) = P(y= z-x)$$\n",
    "\n",
    "Again we'll use the fact that we can add up conditional probabilities, times the probability of the condition, to get the unconditional probability. Now let $P_x(x)=P(X=x)$ and $P_y(y) = P(Y=y)$. Then:\n",
    "\n",
    "$$P(x+y = z) = \\sum_{n} P_x(x_n)P_y(z-x_n)$$\n",
    "\n",
    "So I am going to replace the pdf function with a pmf function (thanks to Gary for pointing out the incorrect nomenclature on a previous version of this). In code:\n"
   ]
  },
  {
   "cell_type": "code",
   "execution_count": null,
   "id": "0695fbe5",
   "metadata": {},
   "outputs": [],
   "source": [
    "class ConvolvedDiscreteAndDiscrete(iid.rv_discrete):\n",
    "    \"\"\"Convolve (add) a discrete rv x and a discrete rv s,\n",
    "       returning the resulting cdf.\"\"\"\n",
    "\n",
    "    def __init__(self,X,Y):\n",
    "        self.X = X\n",
    "        self.Y = Y\n",
    "        super(ConvolvedDiscreteAndDiscrete, self).__init__(name=\"ConvolvedDiscreteAndDiscrete\")\n",
    "\n",
    "        \n",
    "    def pmf(self,z):\n",
    "        print(\"No cdf yet!\")"
   ]
  }
 ],
 "metadata": {
  "kernelspec": {
   "display_name": "Python 3 (ipykernel)",
   "language": "python",
   "name": "python3"
  },
  "language_info": {
   "codemirror_mode": {
    "name": "ipython",
    "version": 3
   },
   "file_extension": ".py",
   "mimetype": "text/x-python",
   "name": "python",
   "nbconvert_exporter": "python",
   "pygments_lexer": "ipython3",
   "version": "3.9.4"
  }
 },
 "nbformat": 4,
 "nbformat_minor": 5
}
