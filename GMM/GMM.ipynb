{
 "cells": [
  {
   "cell_type": "markdown",
   "id": "c9393956",
   "metadata": {},
   "source": [
    "# Introduction to GMM\n",
    "\n",
    "## What is this and why am I learning it?\n",
    "GMM is a way of uncovering structural parameters from data that may or may not be linear. While we have seen over and over again how regressions can uncover unknown \"betas\" that summarize causal (and correlational) relationships between variables, these \"betas\" are _linear_: $y$ is a linear function of $\\beta$. However, in many of the models we may right down (especially in Trade, Economic Geography, IO...) we will have structural relationships that are not at all linear in the unknown parameters we want to estimate! \n",
    "\n",
    "To give a real-world example, take the system of structural equations from the model in Redding and Sturn (2008) (an Economic Geography, Rosen-Roback style model):\n",
    "\n",
    "$$w_i^{\\sigma} = \\sum_n L_nw_n (\\tau_{ni}/(P_nT_n))^{1-\\sigma} = \"FMA_i\"$$ \n",
    "\n",
    "where $P_n$ is the price index,  $w_i$ are wages in city $i$, $L_i$ is labor (population), $\\tau_{ni}$ are trade costs from $n$ to $i$, and $T_i$ are unknown productivity parameters. \n",
    "\n",
    "Suppose for simplicity that we know $P_n$ (the price index), we have data on $\\{w_n, L_n, \\tau_{ni}\\}_{i,n}$, and we are using a value for $\\sigma = 4$ from previous estimates. Then we can use this equation as a GMM moment condition to estimate $T_n$!"
   ]
  },
  {
   "cell_type": "markdown",
   "id": "ceaca63b",
   "metadata": {},
   "source": [
    "## A more simple example\n",
    "\n",
    "Let's walk through a more stylized example for our purposes. Suppose you have written down an IO model that goes like this:\n",
    "\n",
    "Firms produce 2 goods $g = 1,2$ using the input $x$ for each. However, each good uses a different technology, like so:\n",
    "\n",
    "$$y_g = f_g(x)$$\n",
    "\n",
    "This is essentially what we saw in class. Now to be more explicit, we are going to say that our model assumes Cobb-Douglass technology, so that our production functions look like this:\n",
    "\n",
    "\\begin{align}\n",
    "y_1 = x_1^{\\alpha_1} \\\\ \n",
    "y_2 = x_2^{\\alpha_2} \n",
    "\\end{align}\n",
    "\n",
    "$x_1, x_2$ index how much of $x$ is used in the production of goods 1, 2 respectively.\n",
    "\n",
    "Now firms have uncertainty over their prices. Then our first order conditions from the model imply that the following should hold:\n",
    "\\begin{align}\n",
    "E\\left(p_1\\alpha_1x_1^{\\alpha_1 - 1} - w\\right) &= 0 \\\\ \n",
    "E\\left(p_2\\alpha_2x_2^{\\alpha_2-1} - w\\right) &= 0 \\\\\n",
    "\\end{align}\n",
    "\n",
    "Now, we have data on lots of firms $f = 1,\\ldots, N$, and for each firm we observe prices, inputs, and wages. From these data we can use GMM to back out the values of $\\alpha_1, \\alpha_2$, by applying the analogy principle, which would imply:\n",
    "\n",
    "\\begin{align}\n",
    "\\frac{1}{N}\\sum_i \\left(p_{1i}\\alpha_1x_{1i}^{\\alpha_1 - 1} - w_i\\right) &= 0 \\\\ \n",
    "\\frac{1}{N}\\sum_i \\left(p_{2i}\\alpha_2x_{2i}^{\\alpha_2-1} - w_i\\right) &= 0 \\\\\n",
    "\\end{align}\n",
    "\n",
    "Our steps will be:\n",
    "1. Simulate this scenario by proposing a DGP.\n",
    "2. Create data.\n",
    "3. Set up our moment conditions.\n",
    "4. Apply the analogy principle to get from expectations to averages.\n",
    "5. Estimate GMM."
   ]
  },
  {
   "cell_type": "code",
   "execution_count": 1,
   "id": "0926cef1",
   "metadata": {},
   "outputs": [],
   "source": [
    "import numpy as np\n",
    "import pandas as pd\n",
    "import scipy.stats.distributions as iid"
   ]
  },
  {
   "cell_type": "code",
   "execution_count": 2,
   "id": "5003d833",
   "metadata": {},
   "outputs": [],
   "source": [
    "# Step 1: The DGP\n",
    "# note that we need 2N\n",
    "def dgp(true_alphas, N):\n",
    "    alpha1, alpha2 = true_alphas\n",
    "    wage = iid.pareto(5).rvs(size=(N,1))\n",
    "    p_1 = iid.norm(10,2).rvs(size=(N,1))\n",
    "    p_2 = iid.gamma(3,2).rvs(size=(N,1)) + 10\n",
    "    \n",
    "    # create x from these draws, with noise\n",
    "    x_1 = (wage/(alpha1*p_1))**(1/(alpha1-1)) + iid.norm(scale=2).rvs(size=(N,1))\n",
    "    x_2 = (wage/(alpha2*p_2))**(1/(alpha2-1)) + iid.norm(scale=2).rvs(size=(N,1))\n",
    "    \n",
    "    return (x_1, x_2, p_1, p_2, wage)"
   ]
  },
  {
   "cell_type": "code",
   "execution_count": 3,
   "id": "fcc6561b",
   "metadata": {},
   "outputs": [],
   "source": [
    "# Step 2: create data\n",
    "alpha_true = (0.75, 0.5)\n",
    "data = dgp(alpha_true, 100)"
   ]
  },
  {
   "cell_type": "code",
   "execution_count": 4,
   "id": "57090534",
   "metadata": {},
   "outputs": [
    {
     "data": {
      "text/html": [
       "<div>\n",
       "<style scoped>\n",
       "    .dataframe tbody tr th:only-of-type {\n",
       "        vertical-align: middle;\n",
       "    }\n",
       "\n",
       "    .dataframe tbody tr th {\n",
       "        vertical-align: top;\n",
       "    }\n",
       "\n",
       "    .dataframe thead th {\n",
       "        text-align: right;\n",
       "    }\n",
       "</style>\n",
       "<table border=\"1\" class=\"dataframe\">\n",
       "  <thead>\n",
       "    <tr style=\"text-align: right;\">\n",
       "      <th></th>\n",
       "      <th>x1</th>\n",
       "      <th>x2</th>\n",
       "      <th>p1</th>\n",
       "      <th>p2</th>\n",
       "      <th>w</th>\n",
       "    </tr>\n",
       "  </thead>\n",
       "  <tbody>\n",
       "    <tr>\n",
       "      <th>0</th>\n",
       "      <td>721.493055</td>\n",
       "      <td>31.762343</td>\n",
       "      <td>8.310548</td>\n",
       "      <td>14.291375</td>\n",
       "      <td>1.204258</td>\n",
       "    </tr>\n",
       "    <tr>\n",
       "      <th>1</th>\n",
       "      <td>183.456374</td>\n",
       "      <td>22.579887</td>\n",
       "      <td>6.731409</td>\n",
       "      <td>13.655965</td>\n",
       "      <td>1.370812</td>\n",
       "    </tr>\n",
       "    <tr>\n",
       "      <th>2</th>\n",
       "      <td>584.260650</td>\n",
       "      <td>11.862811</td>\n",
       "      <td>12.522831</td>\n",
       "      <td>14.810221</td>\n",
       "      <td>1.911339</td>\n",
       "    </tr>\n",
       "    <tr>\n",
       "      <th>3</th>\n",
       "      <td>4903.737412</td>\n",
       "      <td>55.098363</td>\n",
       "      <td>12.159209</td>\n",
       "      <td>15.751031</td>\n",
       "      <td>1.089850</td>\n",
       "    </tr>\n",
       "    <tr>\n",
       "      <th>4</th>\n",
       "      <td>2507.202961</td>\n",
       "      <td>74.069751</td>\n",
       "      <td>9.911487</td>\n",
       "      <td>18.029002</td>\n",
       "      <td>1.050627</td>\n",
       "    </tr>\n",
       "  </tbody>\n",
       "</table>\n",
       "</div>"
      ],
      "text/plain": [
       "            x1         x2         p1         p2         w\n",
       "0   721.493055  31.762343   8.310548  14.291375  1.204258\n",
       "1   183.456374  22.579887   6.731409  13.655965  1.370812\n",
       "2   584.260650  11.862811  12.522831  14.810221  1.911339\n",
       "3  4903.737412  55.098363  12.159209  15.751031  1.089850\n",
       "4  2507.202961  74.069751   9.911487  18.029002  1.050627"
      ]
     },
     "execution_count": 4,
     "metadata": {},
     "output_type": "execute_result"
    }
   ],
   "source": [
    "data_df = pd.DataFrame(np.c_[data], columns = [\"x1\", \"x2\", \"p1\", \"p2\", \"w\"])\n",
    "data_df.head()"
   ]
  },
  {
   "cell_type": "code",
   "execution_count": 5,
   "id": "c052360e",
   "metadata": {},
   "outputs": [
    {
     "data": {
      "text/html": [
       "<div>\n",
       "<style scoped>\n",
       "    .dataframe tbody tr th:only-of-type {\n",
       "        vertical-align: middle;\n",
       "    }\n",
       "\n",
       "    .dataframe tbody tr th {\n",
       "        vertical-align: top;\n",
       "    }\n",
       "\n",
       "    .dataframe thead th {\n",
       "        text-align: right;\n",
       "    }\n",
       "</style>\n",
       "<table border=\"1\" class=\"dataframe\">\n",
       "  <thead>\n",
       "    <tr style=\"text-align: right;\">\n",
       "      <th></th>\n",
       "      <th>x1</th>\n",
       "      <th>x2</th>\n",
       "      <th>p1</th>\n",
       "      <th>p2</th>\n",
       "      <th>w</th>\n",
       "    </tr>\n",
       "  </thead>\n",
       "  <tbody>\n",
       "    <tr>\n",
       "      <th>count</th>\n",
       "      <td>100.000000</td>\n",
       "      <td>100.000000</td>\n",
       "      <td>100.000000</td>\n",
       "      <td>100.000000</td>\n",
       "      <td>100.000000</td>\n",
       "    </tr>\n",
       "    <tr>\n",
       "      <th>mean</th>\n",
       "      <td>2224.921845</td>\n",
       "      <td>44.007359</td>\n",
       "      <td>10.065655</td>\n",
       "      <td>15.353802</td>\n",
       "      <td>1.237362</td>\n",
       "    </tr>\n",
       "    <tr>\n",
       "      <th>std</th>\n",
       "      <td>2192.842021</td>\n",
       "      <td>18.212170</td>\n",
       "      <td>2.250605</td>\n",
       "      <td>1.795865</td>\n",
       "      <td>0.279694</td>\n",
       "    </tr>\n",
       "    <tr>\n",
       "      <th>min</th>\n",
       "      <td>74.876438</td>\n",
       "      <td>5.392297</td>\n",
       "      <td>5.044115</td>\n",
       "      <td>12.668698</td>\n",
       "      <td>1.003008</td>\n",
       "    </tr>\n",
       "    <tr>\n",
       "      <th>25%</th>\n",
       "      <td>714.667782</td>\n",
       "      <td>30.662895</td>\n",
       "      <td>8.354203</td>\n",
       "      <td>13.851923</td>\n",
       "      <td>1.050473</td>\n",
       "    </tr>\n",
       "    <tr>\n",
       "      <th>50%</th>\n",
       "      <td>1607.824382</td>\n",
       "      <td>43.772297</td>\n",
       "      <td>10.058214</td>\n",
       "      <td>15.083818</td>\n",
       "      <td>1.130328</td>\n",
       "    </tr>\n",
       "    <tr>\n",
       "      <th>75%</th>\n",
       "      <td>2991.892979</td>\n",
       "      <td>54.353268</td>\n",
       "      <td>11.679440</td>\n",
       "      <td>16.352295</td>\n",
       "      <td>1.295712</td>\n",
       "    </tr>\n",
       "    <tr>\n",
       "      <th>max</th>\n",
       "      <td>11459.305898</td>\n",
       "      <td>93.896322</td>\n",
       "      <td>14.791031</td>\n",
       "      <td>20.864748</td>\n",
       "      <td>2.356967</td>\n",
       "    </tr>\n",
       "  </tbody>\n",
       "</table>\n",
       "</div>"
      ],
      "text/plain": [
       "                 x1          x2          p1          p2           w\n",
       "count    100.000000  100.000000  100.000000  100.000000  100.000000\n",
       "mean    2224.921845   44.007359   10.065655   15.353802    1.237362\n",
       "std     2192.842021   18.212170    2.250605    1.795865    0.279694\n",
       "min       74.876438    5.392297    5.044115   12.668698    1.003008\n",
       "25%      714.667782   30.662895    8.354203   13.851923    1.050473\n",
       "50%     1607.824382   43.772297   10.058214   15.083818    1.130328\n",
       "75%     2991.892979   54.353268   11.679440   16.352295    1.295712\n",
       "max    11459.305898   93.896322   14.791031   20.864748    2.356967"
      ]
     },
     "execution_count": 5,
     "metadata": {},
     "output_type": "execute_result"
    }
   ],
   "source": [
    "data_df.describe()"
   ]
  },
  {
   "cell_type": "markdown",
   "id": "d3b74b6f",
   "metadata": {},
   "source": [
    "### Creating moment conditions\n",
    "Our moment conditions will have to be functions of the unknown parameter, since this is... unknown. Here I imitate Ethan's code, with some minor changes. First we set up for each observation _i_, what the moment condition should look like. Since we have 2 moment conditions, I am going to stack these horizontally. What will the dimentions of this be?"
   ]
  },
  {
   "cell_type": "code",
   "execution_count": 6,
   "id": "80a95b45",
   "metadata": {},
   "outputs": [],
   "source": [
    "def gj(alphas, data):\n",
    "    # unpack my inputs\n",
    "    alpha1, alpha2 = alphas\n",
    "    x_1, x_2, p_1, p_2, wage = data\n",
    "    # set up moments (separately)\n",
    "    moment1 = p_1*alpha1*x_1**(alpha1 - 1) - wage\n",
    "    moment2 = p_2*alpha2*x_2**(alpha2 - 1) - wage\n",
    "    # stack the moments next to each other\n",
    "    moments = np.c_[moment1, moment2]\n",
    "    \n",
    "    return moments"
   ]
  },
  {
   "cell_type": "code",
   "execution_count": 7,
   "id": "6c0e6547",
   "metadata": {},
   "outputs": [
    {
     "data": {
      "text/plain": [
       "array([[-1.62545316e-03,  6.36501496e-02],\n",
       "       [ 9.66123225e-04,  6.61039873e-02],\n",
       "       [-9.92608959e-04,  2.38657484e-01],\n",
       "       [-7.97056379e-05, -2.88636182e-02],\n",
       "       [-1.10913308e-04, -3.20604049e-03]])"
      ]
     },
     "execution_count": 7,
     "metadata": {},
     "output_type": "execute_result"
    }
   ],
   "source": [
    "gj(alpha_true, data)[:5] # these are pretty small, bc the alphas are right!"
   ]
  },
  {
   "cell_type": "code",
   "execution_count": 8,
   "id": "d800b2a5",
   "metadata": {},
   "outputs": [
    {
     "data": {
      "text/plain": [
       "array([[-1.20203343, -1.02454715],\n",
       "       [-1.36463335, -1.14519383],\n",
       "       [-1.90728616, -1.50185071],\n",
       "       [-1.08926958, -0.9623737 ],\n",
       "       [-1.04976227, -0.93547034]])"
      ]
     },
     "execution_count": 8,
     "metadata": {},
     "output_type": "execute_result"
    }
   ],
   "source": [
    "gj((0.1, 0.2), data)[:5] # these are much larger!"
   ]
  },
  {
   "cell_type": "markdown",
   "id": "0bf07c37",
   "metadata": {},
   "source": [
    "Now, we appply the analogy principle to these moment conditions - by analogy, the sample mean approximate the expectation, so we want to take the mean over N. In our data, the _N_ are running down the _rows_. The rows are the 0-axis in python, so we want to take the mean over ``axis = 0``. If we apply the mean over ``axis = 1``, this would allow us to take the mean across the columns, which wouldn't make sense here."
   ]
  },
  {
   "cell_type": "code",
   "execution_count": 9,
   "id": "9127951e",
   "metadata": {},
   "outputs": [],
   "source": [
    "def gN(alphas, data):\n",
    "    # get individual moments\n",
    "    e = gj(alphas, data)\n",
    "    # take mean\n",
    "    gN = e.mean(axis=0).reshape((len(alphas),1))\n",
    "    return gN"
   ]
  },
  {
   "cell_type": "code",
   "execution_count": 10,
   "id": "403ad5ae",
   "metadata": {},
   "outputs": [
    {
     "name": "stdout",
     "output_type": "stream",
     "text": [
      "using true alphas: Eg_j =\n",
      " [[-0.00013189]\n",
      " [ 0.00122055]]\n",
      "\n",
      "using other alphas: Eg_j =\n",
      " [[3.11702657]\n",
      " [8.30485474]]\n"
     ]
    }
   ],
   "source": [
    "# test: we want these = 0!\n",
    "print(f\"using true alphas: Eg_j =\\n {gN(alpha_true, data)}\\n\")\n",
    "print(f\"using other alphas: Eg_j =\\n {gN((0.9, 0.9), data)}\")"
   ]
  },
  {
   "cell_type": "markdown",
   "id": "32db48e2",
   "metadata": {},
   "source": [
    "Now we have our analogous moment conditions, and GMM will try and find the alphas that minimize the squared errors from these according to:\n",
    "\n",
    "$$E(g_j(a))'\\Omega E(g_j(a))$$\n",
    "\n",
    "(a 2 x 2 matrix).\n",
    "\n",
    "But... what is $\\Omega$? The most efficient estimator would weight by the covariance of the moment conditions. So let's set it up!  "
   ]
  },
  {
   "cell_type": "code",
   "execution_count": 11,
   "id": "c59261b1",
   "metadata": {},
   "outputs": [],
   "source": [
    "def Omega(alphas, data):\n",
    "    e = gj(alphas, data)\n",
    "    # recenter\n",
    "    e = e - e.mean(axis=0)\n",
    "    N = e.shape[0]\n",
    "    var = e.T@e/N\n",
    "    return var"
   ]
  },
  {
   "cell_type": "code",
   "execution_count": 12,
   "id": "d1a1e2ae",
   "metadata": {},
   "outputs": [
    {
     "data": {
      "text/plain": [
       "array([[ 4.61763801e-06, -1.03224561e-04],\n",
       "       [-1.03224561e-04,  7.92699844e-03]])"
      ]
     },
     "execution_count": 12,
     "metadata": {},
     "output_type": "execute_result"
    }
   ],
   "source": [
    "Omega(alpha_true, data)"
   ]
  },
  {
   "cell_type": "code",
   "execution_count": 13,
   "id": "55fd1603",
   "metadata": {},
   "outputs": [],
   "source": [
    "# putting it all together, we get the objective function we want to minimize:\n",
    "def J(alphas,omega,data):\n",
    "\n",
    "    g = gN(alphas,data) # Sample moments\n",
    "    N = data[0].shape[0]\n",
    "\n",
    "    return (N*g.T@omega@g).squeeze() # Scale by sample size"
   ]
  },
  {
   "cell_type": "code",
   "execution_count": 14,
   "id": "e3eed810",
   "metadata": {},
   "outputs": [
    {
     "data": {
      "text/plain": [
       "array(1.1842497e-06)"
      ]
     },
     "execution_count": 14,
     "metadata": {},
     "output_type": "execute_result"
    }
   ],
   "source": [
    "J(alpha_true,Omega(alpha_true, data),data)"
   ]
  },
  {
   "cell_type": "markdown",
   "id": "eb7ad4aa",
   "metadata": {},
   "source": [
    "### The 2-step estimator.\n",
    "So now we have all the ingredients, we have set up the moment conditions and the objective function to minimize J(). But J() depends on $\\Omega$, which is unknown! The idea now will be to proceed in 2 steps:\n",
    "\n",
    "1. Guess $\\Omega$. We'll guess the identity matrix.\n",
    "2. Minimize J using our guess for $\\Omega$.\n",
    "3. Use our estimated alphas to calculate $\\widehat{\\Omega}$.\n",
    "4. Using $\\widehat{\\Omega}$, re-run GMM to re-estimate the alphas."
   ]
  },
  {
   "cell_type": "code",
   "execution_count": 15,
   "id": "64e294b0",
   "metadata": {},
   "outputs": [],
   "source": [
    "from scipy.optimize import minimize"
   ]
  },
  {
   "cell_type": "code",
   "execution_count": 16,
   "id": "b363b7bc",
   "metadata": {},
   "outputs": [
    {
     "name": "stdout",
     "output_type": "stream",
     "text": [
      "alpha_hat from first stage = [0.75001267 0.49982316]\n",
      "Omega_hat =\n",
      " [[ 4.60171807e-06 -1.02781247e-04]\n",
      " [-1.02781247e-04  7.91547834e-03]]\n",
      "alpha_hat from second stage = [0.75001257 0.49982315]\n"
     ]
    }
   ],
   "source": [
    "# Step 1: Guess Omega.\n",
    "Omega_guess = np.eye(len(alpha_true))\n",
    "\n",
    "# Step 2: Minimize J using our guess. \n",
    "# We're bringing back our old friend, the minimize function!\n",
    "minimizer = minimize(lambda a: J(a, Omega_guess, data), x0 = [0.5,0.5])\n",
    "alpha_hat = minimizer.x\n",
    "print(f\"alpha_hat from first stage = {alpha_hat}\")\n",
    "\n",
    "# Step 3: Update Omega\n",
    "Omega_hat = Omega(tuple(alpha_hat), data)\n",
    "print(f\"Omega_hat =\\n {Omega_hat}\")\n",
    "\n",
    "# Step 4: re-run with omega_hat\n",
    "minimizer2 = minimize(lambda a: J(a, Omega_hat, data), x0 = [0.5,0.5])\n",
    "alpha_hat2 = minimizer2.x\n",
    "print(f\"alpha_hat from second stage = {alpha_hat2}\")"
   ]
  }
 ],
 "metadata": {
  "kernelspec": {
   "display_name": "Python 3 (ipykernel)",
   "language": "python",
   "name": "python3"
  },
  "language_info": {
   "codemirror_mode": {
    "name": "ipython",
    "version": 3
   },
   "file_extension": ".py",
   "mimetype": "text/x-python",
   "name": "python",
   "nbconvert_exporter": "python",
   "pygments_lexer": "ipython3",
   "version": "3.9.4"
  }
 },
 "nbformat": 4,
 "nbformat_minor": 5
}
